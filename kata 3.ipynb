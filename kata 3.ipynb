{
 "cells": [
  {
   "cell_type": "markdown",
   "metadata": {},
   "source": [
    "## Detección de asteroides\n",
    "### kata 3"
   ]
  },
  {
   "cell_type": "code",
   "execution_count": 3,
   "metadata": {},
   "outputs": [
    {
     "name": "stdout",
     "output_type": "stream",
     "text": [
      "asteroid near earth !\n"
     ]
    }
   ],
   "source": [
    "#EJERCICIO 1\n",
    "\n",
    "# Añadir el código necesario para crear una variable que guarde la velocidad del asteroide.\n",
    "# Escribe una expresión de prueba para calcular si necesita una advertencia.\n",
    "# Agregue las instrucciones que se ejecutarán si la expresión de prueba es true o false.\n",
    "alertSpeed = 25.0\n",
    "currentAsteroidSpeed  = 49.0\n",
    "if currentAsteroidSpeed >= alertSpeed:\n",
    "    print(\"asteroid near earth !\")\n",
    "else:\n",
    "    print('keep sailing')\n"
   ]
  },
  {
   "cell_type": "code",
   "execution_count": null,
   "metadata": {},
   "outputs": [],
   "source": [
    "#EJERCICIO 2\n",
    "\n",
    "# Agrega el código para crear una variable para un asteroide que viaja a 19 km/s\n",
    "# Escribe varias expresiones de prueba para determinar si puedes ver el rayo de luz desde la tierra\n",
    "# Agrega las instrucciones que se ejecutarán si las expresiones de prueba son True o False\n",
    "currentAsteroidSpeed = 19.0\n",
    "\n",
    "if currentAsteroidSpeed >= 20:\n",
    "    print(\"find that light in the sky!\")\n",
    "else:\n",
    "    print(\"nothing to see\")"
   ]
  },
  {
   "cell_type": "code",
   "execution_count": 5,
   "metadata": {},
   "outputs": [
    {
     "name": "stdout",
     "output_type": "stream",
     "text": [
      "earth on danger!\n"
     ]
    }
   ],
   "source": [
    "#EJERCICIO 3\n",
    "\n",
    "# Agrega el código para crear nuevas variables para la velocidad y el tamaño del asteroide\n",
    "# Para probar el código, prueba con varias velocidades y tamaños\n",
    "# Escribe varias expresiones de prueba o combinaciones de expresiones de prueba para determinar qué mensaje se debe enviar a Tierra.\n",
    "\n",
    "currentAsteroidSpeed = 40\n",
    "asteroidSize = 30\n",
    "\n",
    "if 25 < asteroidSize < 1000:\n",
    "    print(\"earth on danger!\")\n",
    "elif currentAsteroidSpeed >= 20:\n",
    "    print(\"find that light in the sky!\")\n",
    "elif asteroidSize < 25:\n",
    "    print(\"nothing to see\")\n",
    "else:\n",
    "    print('Nothing wrong happening')\n",
    "\n"
   ]
  }
 ],
 "metadata": {
  "interpreter": {
   "hash": "0ae14970b831668be0c8a997e427ddd53684edac7a4336a912073404e0fcbd16"
  },
  "kernelspec": {
   "display_name": "Python 3.8.10 ('env': venv)",
   "language": "python",
   "name": "python3"
  },
  "language_info": {
   "codemirror_mode": {
    "name": "ipython",
    "version": 3
   },
   "file_extension": ".py",
   "mimetype": "text/x-python",
   "name": "python",
   "nbconvert_exporter": "python",
   "pygments_lexer": "ipython3",
   "version": "3.8.10"
  },
  "orig_nbformat": 4
 },
 "nbformat": 4,
 "nbformat_minor": 2
}
