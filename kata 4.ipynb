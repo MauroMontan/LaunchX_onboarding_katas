{
 "cells": [
  {
   "cell_type": "markdown",
   "metadata": {},
   "source": [
    "## Cadenas\n",
    "\n",
    "#### kata 4 "
   ]
  },
  {
   "cell_type": "code",
   "execution_count": 10,
   "metadata": {},
   "outputs": [
    {
     "name": "stdout",
     "output_type": "stream",
     "text": [
      " \n",
      "On average, the Moon moves 4cm away from the Earth every year\n",
      " The highest daylight temperature of the Moon is 127 C\n",
      " \n",
      "On average, the Moon moves 4cm away from the Earth every year\n",
      " The highest daylight temperature of the Moon is 127 Celsius\n"
     ]
    }
   ],
   "source": [
    "text = \"\"\"Interesting facts about the Moon. The Moon is Earth's only satellite. There are several interesting facts about the Moon and how it affects life here on Earth. \n",
    "On average, the Moon moves 4cm away from the Earth every year. This yearly drift is not significant enough to cause immediate effects on Earth. The highest daylight temperature of the Moon is 127 C.\"\"\"\n",
    "\n",
    "# Splitting text\n",
    "\n",
    "splitedText = text.split(\".\")\n",
    "\n",
    "# Define las palabras pista: average, temperature y distance suenan bien\n",
    "\n",
    "keywords = [\"average\",\"temperature\",\"distance\"] \n",
    "\n",
    "for sentence in splitedText:\n",
    "    for keyword in keywords:\n",
    "        if keyword in sentence:\n",
    "            print(sentence)\n",
    "            break\n",
    "\n",
    "# Ciclo para cambiar C a Celsius\n",
    "\n",
    "for sentence in splitedText:\n",
    "    for keyword in keywords:\n",
    "        if keyword in sentence:\n",
    "            print(sentence.replace(' C', ' Celsius'))\n",
    "            break"
   ]
  },
  {
   "cell_type": "code",
   "execution_count": 11,
   "metadata": {},
   "outputs": [
    {
     "name": "stdout",
     "output_type": "stream",
     "text": [
      "Gravity Facts about Moon\n",
      "Planet name Earth\n",
      "Gravity on 0.00162\n"
     ]
    }
   ],
   "source": [
    "# EJERCICIO 2\n",
    "\n",
    "# Datos con los que vas a trabajar\n",
    "name = \"Moon\"\n",
    "gravity = 0.00162 # in kms\n",
    "planet = \"Earth\"\n",
    "\n",
    "title = f\"Gravity Facts about {name}\"\n",
    "planetInfo = f\"Planet name {planet}\"\n",
    "gravityInfo = f\"Gravity on {gravity}\"\n",
    "\n",
    "print(f\"\"\"{title}\\n{planetInfo}\\n{gravityInfo}\"\"\")"
   ]
  }
 ],
 "metadata": {
  "interpreter": {
   "hash": "0ae14970b831668be0c8a997e427ddd53684edac7a4336a912073404e0fcbd16"
  },
  "kernelspec": {
   "display_name": "Python 3.8.10 ('env': venv)",
   "language": "python",
   "name": "python3"
  },
  "language_info": {
   "codemirror_mode": {
    "name": "ipython",
    "version": 3
   },
   "file_extension": ".py",
   "mimetype": "text/x-python",
   "name": "python",
   "nbconvert_exporter": "python",
   "pygments_lexer": "ipython3",
   "version": "3.8.10"
  },
  "orig_nbformat": 4
 },
 "nbformat": 4,
 "nbformat_minor": 2
}
