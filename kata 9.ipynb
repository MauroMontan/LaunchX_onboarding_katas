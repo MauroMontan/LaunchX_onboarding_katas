{
 "cells": [
  {
   "cell_type": "markdown",
   "metadata": {},
   "source": [
    "# Kata 9 \n",
    "\n",
    "## Ejercicio 1"
   ]
  },
  {
   "cell_type": "code",
   "execution_count": 1,
   "metadata": {},
   "outputs": [
    {
     "name": "stdout",
     "output_type": "stream",
     "text": [
      "{'fuelReport': 'principal: 100, second: 100, backup: 100', 'average': 233.33333333333334, 'princial': 100, 'second': 100, 'backup': 100}\n",
      "62.0\n"
     ]
    }
   ],
   "source": [
    "#  Función para leer 3 tanques de combustible y muestre el promedio\n",
    "\n",
    "def fuelInfo(principal:float,second:float,backup:float)->dict:\n",
    "    info = f\"principal: {principal}, second: {second}, backup: {backup}\"\n",
    "\n",
    "    average = principal + second + backup / 3\n",
    "    fuelInfo = {\n",
    "        \"fuelReport\" :info,\n",
    "        \"average\":average,\n",
    "        \"princial\":principal,\n",
    "        \"second\":second,\n",
    "        \"backup\":backup\n",
    "    }\n",
    "    return fuelInfo\n",
    "\n",
    "    \n",
    "print(fuelInfo(100,100,100))\n",
    "tankAverage = fuelInfo(40,12,30).get(\"average\")\n",
    "print(tankAverage)\n"
   ]
  },
  {
   "cell_type": "markdown",
   "metadata": {},
   "source": [
    "## Ejercicio 2"
   ]
  },
  {
   "cell_type": "code",
   "execution_count": 2,
   "metadata": {},
   "outputs": [
    {
     "name": "stdout",
     "output_type": "stream",
     "text": [
      "\n",
      "    Mission to Moon\n",
      "    Total travel time: 120 minutes\n",
      "    Total fuel left: 62.0 gallons\n",
      "    \n"
     ]
    }
   ],
   "source": [
    "def mission_report(flight_time:float, destination:float,tankAverage:float)->str:\n",
    "    return f\"\"\"\n",
    "    Mission to {destination}\n",
    "    Total travel time: { flight_time } minutes\n",
    "    Total fuel left: {tankAverage} gallons\n",
    "    \"\"\"\n",
    "\n",
    "print(mission_report(120,\"Moon\",tankAverage))"
   ]
  }
 ],
 "metadata": {
  "interpreter": {
   "hash": "916dbcbb3f70747c44a77c7bcd40155683ae19c65e1c03b4aa3499c5328201f1"
  },
  "kernelspec": {
   "display_name": "Python 3.8.10 64-bit",
   "language": "python",
   "name": "python3"
  },
  "language_info": {
   "codemirror_mode": {
    "name": "ipython",
    "version": 3
   },
   "file_extension": ".py",
   "mimetype": "text/x-python",
   "name": "python",
   "nbconvert_exporter": "python",
   "pygments_lexer": "ipython3",
   "version": "3.8.10"
  },
  "orig_nbformat": 4
 },
 "nbformat": 4,
 "nbformat_minor": 2
}
